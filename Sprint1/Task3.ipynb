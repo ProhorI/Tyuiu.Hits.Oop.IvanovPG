{
 "cells": [
  {
   "cell_type": "markdown",
   "metadata": {},
   "source": [
    "<h1 style=\"color:DodgerBlue\">Индивидальный проект</h1>"
   ]
  },
  {
   "cell_type": "markdown",
   "metadata": {},
   "source": [
    "<h2 style=\"color:DodgerBlue\">Название проекта:</h2>\n",
    "\n",
    "----\n",
    "\n",
    "### Вариант задания 8\n"
   ]
  },
  {
   "cell_type": "markdown",
   "metadata": {},
   "source": [
    "<h2 style=\"color:DodgerBlue\">Описание проекта:</h2>\n",
    "\n",
    "----\n",
    "\n",
    "Описание задачи:\n",
    "\n",
    "Создать базовый класс CreditCard в C#, который будет представлять информацию о кредитных картах. На основе этого класса разработать 2-3 производных класса, демонстрирующих принципы наследования и полиморфизма. В каждом из классов должны быть реализованы новые атрибуты и методы, а также переопределены некоторые методы базового класса для демонстрации полиморфизма.\n",
    "\n",
    "Требования к базовому классу CreditCard:\n",
    "\n",
    "• Атрибуты: Номер карты (CardNumber), Холдера (HolderName), Срок действия (ExpiryDate).\n",
    "\n",
    "• Методы:\n",
    "\n",
    "o GetInfo(): метод для получения информации о кредитной карте в виде\n",
    "строки.\n",
    "o Pay(): метод для оплаты покупки с использованием карты.\n",
    "o CheckBalance(): метод для проверки баланса на карте.\n",
    "Требования к производным классам:\n",
    "\n",
    "GoldCard (GoldCreditCard): Должен содержать дополнительные атрибуты, такие как Бесплатные бонусные мили (BonusMiles). Метод Pay() должен быть переопределен для добавления информации о получении бонусных миль при оплате покупки.\n",
    "PremiumCard (PremiumCreditCard): Должен содержать дополнительные атрибуты, такие как Ассистент поддержки (SupportAssistant). Метод CheckBalance() должен быть переопределен для предоставления возможности обратиться за помощью к ассистенту поддержки в случае проблем с балансом.\n",
    "CorporateCard (CorporateCreditCard) (если требуется третий класс): Должен содержать дополнительные атрибуты, такие как Компания (Company). Метод GetInfo() должен быть переопределен для включения информации о компании в описании карты.\n",
    "Дополнительное задание\n",
    "Добавьте к сущестующим классам конструктора классов с использованием гетторов и сетторов и реализуйте взаимодействие объектов между собой"
   ]
  },
  {
   "cell_type": "markdown",
   "metadata": {},
   "source": [
    "<h2 style=\"color:DodgerBlue\">Реализация:</h2>\n",
    "\n",
    "----"
   ]
  },
  {
   "cell_type": "code",
   "execution_count": 3,
   "metadata": {
    "dotnet_interactive": {
     "language": "csharp"
    },
    "polyglot_notebook": {
     "kernelName": "csharp"
    }
   },
   "outputs": [
    {
     "name": "stdout",
     "output_type": "stream",
     "text": [
      "Оплата покупки прошла успешно! Вам были зачислены бонусные мили в количестве: 69\n",
      "Ваш баланс составляет 6900 \n",
      "\n",
      "Номер карты: 6666 9999 2222, имя холдера: Дмитрий Ицков, срок действия: 05.28\n",
      "Ваш баланс составляет 10000. Если у вас возникли какие-либо трудности/проблемы с балансом обратитесь к ассистенту поддержки по номеру: 8 800 555 55 35\n",
      "\n",
      "Номер карты: 0000 2222 6666, имя холдера: Сергей Дмитриев, срок действия: 10.27, карта привязана к компании: ВТБ\n",
      "Оплата покупки прошла успешно!\n"
     ]
    }
   ],
   "source": [
    "public class CreditCard\n",
    "{\n",
    "    public string cardnumber;\n",
    "    public string holdername;\n",
    "    public string expirydate;\n",
    "    public int balance;\n",
    "\n",
    "    public CreditCard(string cardnumber, string holdername, string expirydate, int balance)\n",
    "    {\n",
    "        this.cardnumber = cardnumber;\n",
    "        this.holdername = holdername;\n",
    "        this.expirydate = expirydate;\n",
    "        this.balance = balance;\n",
    "    }\n",
    "\n",
    "    public string CardNumber\n",
    "    {\n",
    "        get { return cardnumber; }\n",
    "        set { cardnumber = value; }\n",
    "    }\n",
    "    public string HolderName\n",
    "    {\n",
    "        get { return holdername; }\n",
    "        set { holdername = value; }\n",
    "    }\n",
    "    public string ExpiryDate\n",
    "    {\n",
    "        get { return expirydate; }\n",
    "        set { expirydate = value; }\n",
    "    }\n",
    "    public int Balance\n",
    "    {\n",
    "        get { return balance; }\n",
    "        set { balance = value; }\n",
    "    }\n",
    "\n",
    "\n",
    "    public virtual string GetInfo()\n",
    "    {\n",
    "        return $\"Номер карты: {CardNumber}, имя холдера: {HolderName}, срок действия: {ExpiryDate}\";\n",
    "    }\n",
    "\n",
    "    public virtual void Pay()\n",
    "    {\n",
    "        Console.WriteLine(\"Оплата покупки прошла успешно!\");\n",
    "    }\n",
    "\n",
    "    public virtual void CheckBalance()\n",
    "    {\n",
    "        Console.WriteLine($\"Ваш баланс составляет {Balance} \");\n",
    "    }\n",
    "}\n",
    "\n",
    "public class GoldCard : CreditCard\n",
    "{\n",
    "    private int bonusmiles; \n",
    "\n",
    "    public GoldCard(string cardnumber, string holdername, string expirydate, int balance, int bonusmiles) : base(cardnumber, holdername, expirydate, balance)\n",
    "    {\n",
    "        this.BonusMiles = bonusmiles;\n",
    "    }\n",
    "\n",
    "    public int BonusMiles\n",
    "    {\n",
    "        get { return bonusmiles; }\n",
    "        set { bonusmiles = value; }\n",
    "    }\n",
    "\n",
    "    public override void Pay()\n",
    "    {\n",
    "        Console.WriteLine($\"Оплата покупки прошла успешно! Вам были зачислены бонусные мили в количестве: {BonusMiles}\");\n",
    "    }\n",
    "}\n",
    "\n",
    "public class PremiumCard: CreditCard\n",
    "{\n",
    "    private string supportassistant;\n",
    "\n",
    "    public PremiumCard(string cardnumber, string holdername, string expirydate, int balance, string supportassistant) : base(cardnumber, holdername, expirydate, balance)\n",
    "    {\n",
    "        this.SupportAssistant = supportassistant;\n",
    "    }\n",
    "\n",
    "    public string SupportAssistant\n",
    "    {\n",
    "        get { return supportassistant; }\n",
    "        set { supportassistant = value; }\n",
    "    }\n",
    "\n",
    "    public override void CheckBalance()\n",
    "    {\n",
    "        Console.WriteLine($\"Ваш баланс составляет {Balance}. Если у вас возникли какие-либо трудности/проблемы с балансом обратитесь к ассистенту поддержки по номеру: {SupportAssistant}\");\n",
    "    }\n",
    "}\n",
    "\n",
    "public class CorporateCreditCard: CreditCard\n",
    "{\n",
    "    private string company;\n",
    "\n",
    "    public CorporateCreditCard(string cardnumber, string holdername, string expirydate, int balance, string company) : base(cardnumber, holdername, expirydate, balance)\n",
    "    {\n",
    "        this.Company = company;\n",
    "    }\n",
    "    public string Company\n",
    "    {\n",
    "        get { return company; }\n",
    "        set { company = value; }\n",
    "    }\n",
    "\n",
    "    public override string GetInfo()\n",
    "    {\n",
    "        return $\"Номер карты: {CardNumber}, имя холдера: {HolderName}, срок действия: {ExpiryDate}, карта привязана к компании: {Company}\";\n",
    "    }\n",
    "}\n",
    "\n",
    "GoldCard goldcard = new GoldCard(\"8800 2255 6689\", \"Бейби Гога\", \"09.26\", 6900, 69);\n",
    "goldcard.Pay();\n",
    "goldcard.CheckBalance();\n",
    "\n",
    "Console.WriteLine(\"\");\n",
    "\n",
    "PremiumCard premiumcard = new PremiumCard(\"6666 9999 2222\", \"Дмитрий Ицков\", \"05.28\", 10000, \"8 800 555 55 35\");\n",
    "Console.WriteLine(premiumcard.GetInfo());\n",
    "premiumcard.CheckBalance();\n",
    "\n",
    "Console.WriteLine(\"\");\n",
    "\n",
    "CorporateCreditCard corpcreditcard = new CorporateCreditCard(\"0000 2222 6666\", \"Сергей Дмитриев\", \"10.27\", 2500, \"ВТБ\");\n",
    "Console.WriteLine(corpcreditcard.GetInfo());\n",
    "corpcreditcard.Pay();"
   ]
  }
 ],
 "metadata": {
  "kernelspec": {
   "display_name": ".NET (C#)",
   "language": "C#",
   "name": ".net-csharp"
  },
  "polyglot_notebook": {
   "kernelInfo": {
    "defaultKernelName": "csharp",
    "items": [
     {
      "aliases": [],
      "languageName": "csharp",
      "name": "csharp"
     }
    ]
   }
  }
 },
 "nbformat": 4,
 "nbformat_minor": 2
}
