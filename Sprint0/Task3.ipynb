{
 "cells": [
  {
   "cell_type": "markdown",
   "metadata": {},
   "source": [
    "<h1 style=\"color:DodgerBlue\">Индивидальный проект</h1>"
   ]
  },
  {
   "cell_type": "markdown",
   "metadata": {},
   "source": [
    "<h2 style=\"color:DodgerBlue\">Название проекта: Magic Delivery Service:</h2>\n",
    "\n",
    "----\n",
    "\n",
    "### Вариант задания 9\n"
   ]
  },
  {
   "cell_type": "markdown",
   "metadata": {},
   "source": [
    "<h2 style=\"color:DodgerBlue\">Описание проекта:</h2>\n",
    "\n",
    "----\n",
    "\n",
    "Создать базовый класс Order в C#, который будет представлять информацию о заказах товаров или услуг. На основе этого класса разработать 2-3 производных класса, демонстрирующих принципы наследования и полиморфизма. В каждом из классов должны быть реализованы новые атрибуты и методы, а также переопределены некоторые методы базового класса для демонстрации полиморфизма.\n",
    "\n",
    "Требования к базовому классу Order: • Атрибуты: ID заказа (OrderId), Дата создания (CreationDate), Сумма заказа (TotalAmount). • Методы: o CalculateTotal(): метод для расчета общей суммы заказа. o AddItem(Item item): метод для добавления элемента в заказ. o RemoveItem(Item item): метод для удаления элемента из заказа. Требования к производным классам:\n",
    "\n",
    "1.ОнлайнЗаказ (OnlineOrder): Должен содержать дополнительные атрибуты, такие как Email клиента (CustomerEmail). Метод AddItem() должен быть переопределен для добавления информации о способе доставки при добавлении элемента.\n",
    "2.ФизическийЗаказ (PhysicalOrder): Должен содержать дополнительные атрибуты, такие как Адрес доставки (DeliveryAddress). Метод RemoveItem() должен быть переопределен для добавления информации о возврате товара при удалении элемента.\n",
    "3.СпециализированныйЗаказ (SpecializedOrder) (если требуется третий класс): Должен содержать дополнительные атрибуты, такие как Специальные условия (SpecialConditions). Метод CalculateTotal() должен быть переопределен для учета специальных условий при расчете общей суммы заказа.\n"
   ]
  },
  {
   "cell_type": "markdown",
   "metadata": {},
   "source": [
    "<h2 style=\"color:DodgerBlue\">Реализация:</h2>\n",
    "\n",
    "----"
   ]
  },
  {
   "cell_type": "code",
   "execution_count": null,
   "metadata": {
    "dotnet_interactive": {
     "language": "csharp"
    },
    "polyglot_notebook": {
     "kernelName": "csharp"
    }
   },
   "outputs": [
    {
     "name": "stdout",
     "output_type": "stream",
     "text": [
      "Оплата покупки прошла успешно! Вам были зачислены бонусные мили в количестве: 69\n",
      "Ваш баланс составляет - \n",
      "\n",
      "Номер карты: 6666 9999 2222, имя холдера: Дмитрий Ицков, срок действия: 05.28\n",
      "Ваш баланс составляет - . Если у вас возникли какие-либо трудности/проблемы с балансом обратитесь к ассистенту поддержки по номеру: 8 800 343 77 21\n",
      "\n",
      "Номер карты: 0000 2222 6666, имя холдера: Сергей Дмитриев, срок действия: 10.27, карта привязана к компании: Т-Банк\n",
      "Оплата покупки прошла успешно!\n"
     ]
    }
   ],
   "source": [
    "public class CreditCard\n",
    "{\n",
    "    public string CardNumber;\n",
    "    public string HolderName;\n",
    "    public string ExpiryDate;\n",
    "\n",
    "\n",
    "    public virtual string GetInfo()\n",
    "    {\n",
    "        return $\"Номер карты: {CardNumber}, имя холдера: {HolderName}, срок действия: {ExpiryDate}\";\n",
    "    }\n",
    "\n",
    "    public virtual void Pay()\n",
    "    {\n",
    "        Console.WriteLine(\"Оплата покупки прошла успешно!\");\n",
    "    }\n",
    "\n",
    "    public virtual void CheckBalance()\n",
    "    {\n",
    "        Console.WriteLine(\"Ваш баланс составляет - \");\n",
    "    }\n",
    "}\n",
    "\n",
    "public class GoldCard : CreditCard\n",
    "{\n",
    "    public int BonusMiles;\n",
    "\n",
    "    public override void Pay()\n",
    "    {\n",
    "        Console.WriteLine($\"Оплата покупки прошла успешно! Вам были зачислены бонусные мили в количестве: {BonusMiles}\");\n",
    "    }\n",
    "}\n",
    "\n",
    "public class PremiumCard: CreditCard\n",
    "{\n",
    "    public string SupportAssistant;\n",
    "\n",
    "    public override void CheckBalance()\n",
    "    {\n",
    "        Console.WriteLine($\"Ваш баланс составляет - . Если у вас возникли какие-либо трудности/проблемы с балансом обратитесь к ассистенту поддержки по номеру: {SupportAssistant}\");\n",
    "    }\n",
    "}\n",
    "\n",
    "public class CorporateCreditCard: CreditCard\n",
    "{\n",
    "    public string Company;\n",
    "\n",
    "    public override string GetInfo()\n",
    "    {\n",
    "        return $\"Номер карты: {CardNumber}, имя холдера: {HolderName}, срок действия: {ExpiryDate}, карта привязана к компании: {Company}\";\n",
    "    }\n",
    "}\n",
    "\n",
    "GoldCard goldcard = new GoldCard();\n",
    "goldcard.CardNumber = \"8800 2255 6689\";\n",
    "goldcard.HolderName = \"Бейби Гога\";\n",
    "goldcard.ExpiryDate = \"09.26\";\n",
    "goldcard.BonusMiles = 69;\n",
    "goldcard.Pay();\n",
    "goldcard.CheckBalance();\n",
    "\n",
    "Console.WriteLine(\"\");\n",
    "\n",
    "PremiumCard premiumcard = new PremiumCard();\n",
    "premiumcard.CardNumber = \"6666 9999 2222\";\n",
    "premiumcard.HolderName = \"Дмитрий Ицков\";\n",
    "premiumcard.ExpiryDate = \"05.28\";\n",
    "premiumcard.SupportAssistant = \"8 800 343 77 21\";\n",
    "Console.WriteLine(premiumcard.GetInfo());\n",
    "premiumcard.CheckBalance();\n",
    "\n",
    "Console.WriteLine(\"\");\n",
    "\n",
    "CorporateCreditCard corpcreditcard = new CorporateCreditCard();\n",
    "corpcreditcard.CardNumber = \"0000 2222 6666\";\n",
    "corpcreditcard.HolderName = \"Сергей Дмитриев\";\n",
    "corpcreditcard.ExpiryDate = \"10.27\";\n",
    "corpcreditcard.Company = \"Т-Банк\";\n",
    "Console.WriteLine(corpcreditcard.GetInfo());\n",
    "corpcreditcard.Pay();"
   ]
  }
 ],
 "metadata": {
  "kernelspec": {
   "display_name": ".NET (C#)",
   "language": "C#",
   "name": ".net-csharp"
  },
  "polyglot_notebook": {
   "kernelInfo": {
    "defaultKernelName": "csharp",
    "items": [
     {
      "aliases": [],
      "languageName": "csharp",
      "name": "csharp"
     }
    ]
   }
  }
 },
 "nbformat": 4,
 "nbformat_minor": 2
}
