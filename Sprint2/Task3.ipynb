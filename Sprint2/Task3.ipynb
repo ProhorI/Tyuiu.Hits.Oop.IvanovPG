{
 "cells": [
  {
   "cell_type": "markdown",
   "metadata": {},
   "source": [
    "<h1 style=\"color:DodgerBlue\">Индивидальный проект</h1>"
   ]
  },
  {
   "cell_type": "markdown",
   "metadata": {},
   "source": [
    "<h2 style=\"color:DodgerBlue\">Название проекта:</h2>\n",
    "\n",
    "----\n",
    "\n",
    "### Вариант задания 8\n"
   ]
  },
  {
   "cell_type": "markdown",
   "metadata": {},
   "source": [
    "<h2 style=\"color:DodgerBlue\">Описание проекта:</h2>\n",
    "\n",
    "----\n",
    "\n",
    "Описание задачи:\n",
    "\n",
    "Создать базовый класс CreditCard в C#, который будет представлять информацию о кредитных картах. На основе этого класса разработать 2-3 производных класса, демонстрирующих принципы наследования и полиморфизма. В каждом из классов должны быть реализованы новые атрибуты и методы, а также переопределены некоторые методы базового класса для демонстрации полиморфизма.\n",
    "\n",
    "Требования к базовому классу CreditCard:\n",
    "\n",
    "• Атрибуты: Номер карты (CardNumber), Холдера (HolderName), Срок действия (ExpiryDate).\n",
    "\n",
    "• Методы:\n",
    "\n",
    "o GetInfo(): метод для получения информации о кредитной карте в виде\n",
    "строки.\n",
    "o Pay(): метод для оплаты покупки с использованием карты.\n",
    "o CheckBalance(): метод для проверки баланса на карте.\n",
    "Требования к производным классам:\n",
    "\n",
    "GoldCard (GoldCreditCard): Должен содержать дополнительные атрибуты, такие как Бесплатные бонусные мили (BonusMiles). Метод Pay() должен быть переопределен для добавления информации о получении бонусных миль при оплате покупки.\n",
    "PremiumCard (PremiumCreditCard): Должен содержать дополнительные атрибуты, такие как Ассистент поддержки (SupportAssistant). Метод CheckBalance() должен быть переопределен для предоставления возможности обратиться за помощью к ассистенту поддержки в случае проблем с балансом.\n",
    "CorporateCard (CorporateCreditCard) (если требуется третий класс): Должен содержать дополнительные атрибуты, такие как Компания (Company). Метод GetInfo() должен быть переопределен для включения информации о компании в описании карты.\n",
    "Дополнительное задание\n",
    "Добавьте к сущестующим классам (базовыму и производным 3-4 атрибута и метода) и реализуйте простое, сложное и множественное наследование"
   ]
  },
  {
   "cell_type": "markdown",
   "metadata": {},
   "source": [
    "<h2 style=\"color:DodgerBlue\">Реализация:</h2>\n",
    "\n",
    "----"
   ]
  },
  {
   "cell_type": "code",
   "execution_count": 1,
   "metadata": {
    "dotnet_interactive": {
     "language": "csharp"
    },
    "polyglot_notebook": {
     "kernelName": "csharp"
    }
   },
   "outputs": [
    {
     "name": "stdout",
     "output_type": "stream",
     "text": [
      "Оплата покупки прошла успешно! Вам были зачислены бонусные мили в количестве: 56\n",
      "Ваш баланс составляет 6000 \n",
      "\n",
      "Номер карты: 6666 9999 2222, имя холдера: Наталья Пугачева, срок действия: 05.28\n",
      "Ваш баланс составляет 10000. Если у вас возникли какие-либо трудности/проблемы с балансом обратитесь к ассистенту поддержки по номеру: 8 800 555 55 35\n",
      "\n",
      "Номер карты: 9999 8888 5556, имя холдера: Галина Колева, срок действия: 07.30\n",
      "Оплата покупки прошла успешно! Если вы хотите посмотреть историю покупок то напишите команду: HistoryInfo\n",
      "Ваш баланс составляет 1000. Если у вас возникли какие-либо трудности/проблемы с балансом обратитесь к ассистенту поддержки по номеру: 8 800 986 54 23\n",
      "\n",
      "Номер карты: 9999 9999 8888, имя холдера: Владимир Медведев, срок действия: 10.27\n",
      "Ваша карта привязана к компании: ВТБ\n",
      "Оплата покупки прошла успешно!\n",
      "Ваша карта действительна до 10.27, если хотите продлить, обратитесь в нашу службу поддержки\n"
     ]
    }
   ],
   "source": [
    "public abstract class CreditCard\n",
    "{\n",
    "    public string CardNumber { get; set; }\n",
    "    public string HolderName { get; set; }\n",
    "    public string ExpiryDate { get; set; }\n",
    "    public int Balance { get; set; }\n",
    "\n",
    "    public CreditCard(string cardnumber, string holdername, string expirydate, int balance)\n",
    "    {\n",
    "        CardNumber = cardnumber;\n",
    "        HolderName = holdername;\n",
    "        ExpiryDate = expirydate;\n",
    "        Balance = balance;\n",
    "    }\n",
    "\n",
    "    public virtual void GetInfo()\n",
    "    {\n",
    "        Console.WriteLine($\"Номер карты: {CardNumber}, имя холдера: {HolderName}, срок действия: {ExpiryDate}\");\n",
    "    }\n",
    "\n",
    "    public virtual void Pay()\n",
    "    {\n",
    "        Console.WriteLine(\"Оплата покупки прошла успешно!\");\n",
    "    }\n",
    "\n",
    "    public virtual void CheckBalance()\n",
    "    {\n",
    "        Console.WriteLine($\"Ваш баланс составляет {Balance} \");\n",
    "    }\n",
    "}\n",
    "\n",
    "public interface ICorrporateCreditCard\n",
    "{\n",
    "    void Renewed();\n",
    "}\n",
    "\n",
    "public class GoldCard : CreditCard\n",
    "{\n",
    "    private int BonusMiles { get; set; }\n",
    "\n",
    "    public GoldCard(string cardnumber, string holdername, string expirydate, int balance, int bonusmiles) : base(cardnumber, holdername, expirydate, balance)\n",
    "    {\n",
    "        BonusMiles = bonusmiles;\n",
    "    }\n",
    "\n",
    "    public override void Pay()\n",
    "    {\n",
    "        Console.WriteLine($\"Оплата покупки прошла успешно! Вам были зачислены бонусные мили в количестве: {BonusMiles}\");\n",
    "    }\n",
    "}\n",
    "\n",
    "public class PremiumCard: CreditCard\n",
    "{\n",
    "    public string SupportAssistant { get; set; }\n",
    "\n",
    "    public PremiumCard(string cardnumber, string holdername, string expirydate, int balance, string supportassistant) : base(cardnumber, holdername, expirydate, balance)\n",
    "    {\n",
    "        SupportAssistant = supportassistant;\n",
    "    }\n",
    "\n",
    "    public override void CheckBalance()\n",
    "    {\n",
    "        Console.WriteLine($\"Ваш баланс составляет {Balance}. Если у вас возникли какие-либо трудности/проблемы с балансом обратитесь к ассистенту поддержки по номеру: {SupportAssistant}\");\n",
    "    }\n",
    "}\n",
    "\n",
    "public class SuperPremiumCard: PremiumCard\n",
    "{\n",
    "    public string Purchasehistory { get; set; }\n",
    "\n",
    "    public SuperPremiumCard(string cardnumber, string holdername, string expirydate, int balance, string supportassistant, string purchasehistory) \n",
    "        : base(cardnumber, holdername, expirydate, balance, supportassistant)\n",
    "    {\n",
    "        Purchasehistory = purchasehistory;\n",
    "    }\n",
    "\n",
    "    public override void Pay()\n",
    "    {\n",
    "        Console.WriteLine($\"Оплата покупки прошла успешно! Если вы хотите посмотреть историю покупок то напишите команду: {Purchasehistory}\");\n",
    "    }\n",
    "}\n",
    "\n",
    "public class CorporateCreditCard: CreditCard, ICorrporateCreditCard\n",
    "{\n",
    "    public string Company { get; set; }\n",
    "\n",
    "    public CorporateCreditCard(string cardnumber, string holdername, string expirydate, int balance, string company) : base(cardnumber, holdername, expirydate, balance)\n",
    "    {\n",
    "        Company = company;\n",
    "    }\n",
    "\n",
    "    public void Renewed()\n",
    "    {\n",
    "        Console.WriteLine($\"Ваша карта действительна до {ExpiryDate}, если хотите продлить, обратитесь в нашу службу поддержки\");\n",
    "    }\n",
    "\n",
    "    public override void GetInfo()\n",
    "    {\n",
    "        base.GetInfo();\n",
    "        Console.WriteLine($\"Ваша карта привязана к компании: {Company}\");\n",
    "    }\n",
    "}\n",
    "\n",
    "GoldCard goldcard = new GoldCard(\"8800 2255 6689\", \"Василий Козлов\", \"02.26\", 6000, 56);\n",
    "goldcard.Pay();\n",
    "goldcard.CheckBalance();\n",
    "\n",
    "Console.WriteLine(\"\");\n",
    "\n",
    "PremiumCard premiumcard = new PremiumCard(\"6666 9999 2222\", \"Наталья Пугачева\", \"05.28\", 10000, \"8 800 555 55 35\");\n",
    "premiumcard.GetInfo();\n",
    "premiumcard.CheckBalance();\n",
    "\n",
    "Console.WriteLine(\"\");\n",
    "\n",
    "SuperPremiumCard supercard = new SuperPremiumCard(\"9999 8888 5556\", \"Галина Колева\", \"07.30\", 1000, \"8 800 986 54 23\", \"HistoryInfo\");\n",
    "supercard.GetInfo();\n",
    "supercard.Pay();\n",
    "supercard.CheckBalance();\n",
    "\n",
    "Console.WriteLine(\"\");\n",
    "\n",
    "CorporateCreditCard corpcreditcard = new CorporateCreditCard(\"9999 9999 8888\", \"Владимир Медведев\", \"10.27\", 2500, \"ВТБ\");\n",
    "corpcreditcard.GetInfo();\n",
    "corpcreditcard.Pay();\n",
    "corpcreditcard.Renewed();"
   ]
  }
 ],
 "metadata": {
  "kernelspec": {
   "display_name": ".NET (C#)",
   "language": "C#",
   "name": ".net-csharp"
  },
  "polyglot_notebook": {
   "kernelInfo": {
    "defaultKernelName": "csharp",
    "items": [
     {
      "aliases": [],
      "languageName": "csharp",
      "name": "csharp"
     }
    ]
   }
  }
 },
 "nbformat": 4,
 "nbformat_minor": 2
}
